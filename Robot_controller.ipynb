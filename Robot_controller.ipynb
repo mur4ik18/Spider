{
 "cells": [
  {
   "cell_type": "markdown",
   "metadata": {},
   "source": [
    "Ici je connect tous ceux dont j'en ai besoin"
   ]
  },
  {
   "cell_type": "code",
   "execution_count": 3,
   "metadata": {},
   "outputs": [
    {
     "name": "stdout",
     "output_type": "stream",
     "text": [
      "Requirement already satisfied: pyserial in /opt/homebrew/anaconda3/lib/python3.11/site-packages (3.5)\n",
      "Note: you may need to restart the kernel to use updated packages.\n"
     ]
    }
   ],
   "source": [
    "%pip install pyserial\n",
    "import serial\n",
    "from serial.tools import list_ports\n",
    "import time"
   ]
  },
  {
   "cell_type": "code",
   "execution_count": 5,
   "metadata": {},
   "outputs": [],
   "source": [
    "# Fucntions\n",
    "def get_port():\n",
    "    port = list(list_ports.comports())\n",
    "    p = 1\n",
    "    for p in port:\n",
    "        if 'USB' in p.description:\n",
    "            return p.device\n",
    "    return None\n",
    "\n",
    "def get_comdata(s):\n",
    "    data = s.readline().decode('utf-8')\n",
    "    return data\n",
    "\n",
    "def write_comdata(s, data):\n",
    "    s.write(data.encode('utf-8'))"
   ]
  },
  {
   "cell_type": "code",
   "execution_count": 68,
   "metadata": {},
   "outputs": [
    {
     "name": "stdout",
     "output_type": "stream",
     "text": [
      "Port found:  /dev/cu.usbmodem1101\n"
     ]
    }
   ],
   "source": [
    "p = get_port()\n",
    "if p is None:\n",
    "    print(\"No port found\")\n",
    "    exit = True\n",
    "else:\n",
    "    print(\"Port found: \", p)\n",
    "    arduino = serial.Serial(p, 9600, timeout=.1)"
   ]
  },
  {
   "cell_type": "code",
   "execution_count": null,
   "metadata": {},
   "outputs": [],
   "source": []
  },
  {
   "cell_type": "code",
   "execution_count": 85,
   "metadata": {},
   "outputs": [
    {
     "data": {
      "text/plain": [
       "132"
      ]
     },
     "execution_count": 85,
     "metadata": {},
     "output_type": "execute_result"
    }
   ],
   "source": [
    "\n",
    "#  entre \n",
    "#3       1\n",
    "      \n",
    "#2       0\n",
    "\n",
    "\n",
    "commands = \"init_4 addleg_0_3_2_40_60 addleg_1_4_5_52_60 addleg_2_6_7_40_50 addleg_3_9_8_40_80 gotoZero_0 gotoZero_1 gotoZero_2 gotoZero_3 run \\n\" \n",
    "#commands = \"run \\n\"\n",
    "#commands = \"gotoZero_0 gotoZero_1 gotoZero_2 gotoZero_3 \\n\"\n",
    "arduino.write(commands.encode('utf-8'))\n"
   ]
  },
  {
   "cell_type": "code",
   "execution_count": 114,
   "metadata": {},
   "outputs": [
    {
     "name": "stdout",
     "output_type": "stream",
     "text": [
      "[b'getJ_0\\r\\n', b' enqueued to queue\\n', b'\\r\\n', b'Run detected, changing flag status\\n', b'\\r\\n', b'run\\r\\n', b' enqueued to queue\\n', b'\\r\\n', b'resJ_0_80\\r\\n']\n",
      "b'resJ_0_80\\r\\n'\n",
      "[b'getJ_1\\r\\n', b' enqueued to queue\\n', b'\\r\\n', b'Run detected, changing flag status\\n', b'\\r\\n', b'run\\r\\n', b' enqueued to queue\\n', b'\\r\\n', b'resJ_1_60\\r\\n']\n",
      "b'resJ_1_60\\r\\n'\n",
      "[b'getJ_2\\r\\n', b' enqueued to queue\\n', b'\\r\\n', b'Run detected, changing flag status\\n', b'\\r\\n', b'run\\r\\n', b' enqueued to queue\\n', b'\\r\\n', b'resJ_2_50\\r\\n']\n",
      "b'resJ_2_50\\r\\n'\n",
      "[b'getJ_3\\r\\n', b' enqueued to queue\\n', b'\\r\\n', b'Run detected, changing flag status\\n', b'\\r\\n', b'run\\r\\n', b' enqueued to queue\\n', b'\\r\\n', b'resJ_3_80\\r\\n']\n",
      "b'resJ_3_80\\r\\n'\n"
     ]
    }
   ],
   "source": [
    "def get_joint(joint):\n",
    "    arduino.write((\"getJ_\" + str(joint)+\" run \\n\").encode('utf-8'))\n",
    "    time.sleep(1)\n",
    "    res = arduino.readlines()\n",
    "    print(res)\n",
    "    return res[-1]\n",
    "\n",
    "def get_knee(joint):\n",
    "    arduino.write((\"getK_\" + str(joint)+\" run \\n\").encode('utf-8'))\n",
    "    time.sleep(1)\n",
    "    return arduino.readlines()[-1]\n",
    "\n",
    "print(get_joint(0))\n",
    "print(get_joint(1))\n",
    "print(get_joint(2))\n",
    "print(get_joint(3))\n"
   ]
  },
  {
   "cell_type": "code",
   "execution_count": 122,
   "metadata": {},
   "outputs": [
    {
     "name": "stdout",
     "output_type": "stream",
     "text": [
      "[b'move_0_0_60\\r\\n', b' enqueued to queue\\n', b'\\r\\n', b'Run detected, changing flag status\\n', b'\\r\\n', b'run\\r\\n', b' enqueued to queue\\n', b'\\r\\n', b'6060060getJ_0\\r\\n', b' enqueued to queue\\n', b'\\r\\n', b'Run detected, changing flag status\\n', b'\\r\\n', b'run\\r\\n', b' enqueued to queue\\n', b'\\r\\n', b'resJ_0_60\\r\\n']\n",
      "b'resJ_0_60\\r\\n'\n",
      "b'resK_0_60\\r\\n'\n"
     ]
    }
   ],
   "source": [
    "def move(leg, knee, hip):\n",
    "    arduino.write((f\"move_{leg}_{knee}_{hip} run \\n\").encode('utf-8'))\n",
    "\n",
    "move(0, 0, 60)\n",
    "time.sleep(1.2)\n",
    "print(get_joint(0))\n",
    "print(get_knee(0))"
   ]
  },
  {
   "cell_type": "code",
   "execution_count": 91,
   "metadata": {},
   "outputs": [
    {
     "ename": "SyntaxError",
     "evalue": "invalid syntax. Perhaps you forgot a comma? (1775982305.py, line 13)",
     "output_type": "error",
     "traceback": [
      "\u001b[0;36m  Cell \u001b[0;32mIn[91], line 13\u001b[0;36m\u001b[0m\n\u001b[0;31m    arduino.write((\"getJ_\" + str(joint)\" run \\n\").encode('utf-8'))\u001b[0m\n\u001b[0m                   ^\u001b[0m\n\u001b[0;31mSyntaxError\u001b[0m\u001b[0;31m:\u001b[0m invalid syntax. Perhaps you forgot a comma?\n"
     ]
    }
   ],
   "source": [
    "def move(command):\n",
    "    command += \"move_0_30_0 \"\n",
    "\n",
    "print(arduino.readlines())\n",
    "move0 = \"move_0_30_0 \"\n",
    "move1 = \"move_1_30_0 \"\n",
    "move2 = \"move_2_30_0 \"\n",
    "move3 = \"move_3_30_0 \"\n",
    "#command = move0 + move1 + move2 + move3\n",
    "#command = \"gotoZero_0 gotoZero_1 gotoZero_2 gotoZero_3 \"\n",
    "\n",
    "def get_joint(joint):\n",
    "    arduino.write((\"getJ_\" + str(joint)+\" run \\n\").encode('utf-8'))\n",
    "    time.sleep(1)\n",
    "    return arduino.readlines()[-1]\n",
    "\n",
    "command = \"getJ_0 \"\n",
    "end = \"run \\n\"\n",
    "arduino.write((command+end).encode('utf-8'))\n",
    "time.sleep(1)\n",
    "print(arduino.readlines()[-1])\n"
   ]
  },
  {
   "cell_type": "code",
   "execution_count": 2,
   "metadata": {},
   "outputs": [
    {
     "name": "stdout",
     "output_type": "stream",
     "text": [
      "['init_0_3_2_40_60', 'init_1_4_5_40_60', 'init_2_6_7_40_50', 'init_3_9_8_40_80', 'goto_zero_0', 'goto_zero_1', 'goto_zero_2', 'goto_zero_3', 'delay_1000', 'move_leg_0_0_40']\n"
     ]
    }
   ],
   "source": [
    "# test\n",
    "\n",
    "flow = \"\"\"addleg_0_3_2_40_60 addleg_1_4_5_40_60 addleg_2_6_7_40_50 addleg_3_9_8_40_80 gotoZero_0 gotoZero_1 gotoZero_2 gotoZero_3 delay_1000 moveLeg_0_0_40\"\"\"\n",
    "queue = [\"\"]\n",
    "x = 0\n",
    "\n",
    "for i in flow:\n",
    "    if i == ' ':\n",
    "        x+=1\n",
    "        queue.append(\"\")\n",
    "    else:\n",
    "        queue[x] += i\n",
    "\n",
    "print(queue)"
   ]
  }
 ],
 "metadata": {
  "kernelspec": {
   "display_name": "base",
   "language": "python",
   "name": "python3"
  },
  "language_info": {
   "codemirror_mode": {
    "name": "ipython",
    "version": 3
   },
   "file_extension": ".py",
   "mimetype": "text/x-python",
   "name": "python",
   "nbconvert_exporter": "python",
   "pygments_lexer": "ipython3",
   "version": "3.11.5"
  }
 },
 "nbformat": 4,
 "nbformat_minor": 2
}
