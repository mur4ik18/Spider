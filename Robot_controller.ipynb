{
 "cells": [
  {
   "cell_type": "markdown",
   "metadata": {},
   "source": [
    "Ici je connect tous ceux dont j'en ai besoin"
   ]
  },
  {
   "cell_type": "code",
   "execution_count": 5,
   "metadata": {},
   "outputs": [
    {
     "name": "stdout",
     "output_type": "stream",
     "text": [
      "Requirement already satisfied: pyserial in /opt/homebrew/anaconda3/lib/python3.11/site-packages (3.5)\n",
      "Note: you may need to restart the kernel to use updated packages.\n"
     ]
    }
   ],
   "source": [
    "%pip install pyserial\n",
    "import serial\n",
    "from serial.tools import list_ports\n",
    "import time"
   ]
  },
  {
   "cell_type": "code",
   "execution_count": 8,
   "metadata": {},
   "outputs": [],
   "source": [
    "# Fucntions\n",
    "def get_port():\n",
    "    port = list(list_ports.comports())\n",
    "    p = 1\n",
    "    for p in port:\n",
    "        if 'USB' in p.description:\n",
    "            return p.device\n",
    "    return None\n",
    "\n",
    "def get_comdata(s):\n",
    "    data = s.readline().decode('utf-8')\n",
    "    return data\n",
    "\n",
    "def write_comdata(s, data):\n",
    "    s.write(data.encode('utf-8'))"
   ]
  },
  {
   "cell_type": "code",
   "execution_count": 13,
   "metadata": {},
   "outputs": [
    {
     "name": "stdout",
     "output_type": "stream",
     "text": [
      "No port found\n"
     ]
    }
   ],
   "source": [
    "p = get_port()\n",
    "if p is None:\n",
    "    print(\"No port found\")\n",
    "    exit = True\n",
    "else:\n",
    "    print(\"Port found: \", p)\n",
    "    s = serial.Serial(p, 9600, timeout=1)"
   ]
  },
  {
   "cell_type": "code",
   "execution_count": 2,
   "metadata": {},
   "outputs": [
    {
     "name": "stdout",
     "output_type": "stream",
     "text": [
      "['init_0_3_2_40_60', 'init_1_4_5_40_60', 'init_2_6_7_40_50', 'init_3_9_8_40_80', 'goto_zero_0', 'goto_zero_1', 'goto_zero_2', 'goto_zero_3', 'delay_1000', 'move_leg_0_0_40']\n"
     ]
    }
   ],
   "source": [
    "# test\n",
    "\n",
    "flow = \"\"\"init_0_3_2_40_60 init_1_4_5_40_60 init_2_6_7_40_50 init_3_9_8_40_80 goto_zero_0 goto_zero_1 goto_zero_2 goto_zero_3 delay_1000 move_leg_0_0_40\"\"\"\n",
    "queue = [\"\"]\n",
    "x = 0\n",
    "\n",
    "for i in flow:\n",
    "    if i == ' ':\n",
    "        x+=1\n",
    "        queue.append(\"\")\n",
    "    else:\n",
    "        queue[x] += i\n",
    "\n",
    "print(queue)"
   ]
  }
 ],
 "metadata": {
  "kernelspec": {
   "display_name": "base",
   "language": "python",
   "name": "python3"
  },
  "language_info": {
   "codemirror_mode": {
    "name": "ipython",
    "version": 3
   },
   "file_extension": ".py",
   "mimetype": "text/x-python",
   "name": "python",
   "nbconvert_exporter": "python",
   "pygments_lexer": "ipython3",
   "version": "3.11.5"
  }
 },
 "nbformat": 4,
 "nbformat_minor": 2
}
